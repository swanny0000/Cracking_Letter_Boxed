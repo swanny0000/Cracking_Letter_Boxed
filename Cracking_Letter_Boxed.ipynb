{
  "nbformat": 4,
  "nbformat_minor": 0,
  "metadata": {
    "colab": {
      "provenance": [],
      "authorship_tag": "ABX9TyNUBLZB2W0gtvkvHQ+GajbH",
      "include_colab_link": true
    },
    "kernelspec": {
      "name": "python3",
      "display_name": "Python 3"
    },
    "language_info": {
      "name": "python"
    }
  },
  "cells": [
    {
      "cell_type": "markdown",
      "metadata": {
        "id": "view-in-github",
        "colab_type": "text"
      },
      "source": [
        "<a href=\"https://colab.research.google.com/github/swanny0000/Cracking_Letter_Boxed/blob/main/Cracking_Letter_Boxed.ipynb\" target=\"_parent\"><img src=\"https://colab.research.google.com/assets/colab-badge.svg\" alt=\"Open In Colab\"/></a>"
      ]
    },
    {
      "cell_type": "code",
      "execution_count": 1,
      "metadata": {
        "colab": {
          "base_uri": "https://localhost:8080/"
        },
        "id": "Ik0c_nz0eufq",
        "outputId": "e2228a40-9a30-4896-83bc-754a5616dabe"
      },
      "outputs": [
        {
          "output_type": "stream",
          "name": "stdout",
          "text": [
            "Collecting pyspellchecker\n",
            "  Downloading pyspellchecker-0.7.2-py3-none-any.whl (3.4 MB)\n",
            "\u001b[2K     \u001b[90m━━━━━━━━━━━━━━━━━━━━━━━━━━━━━━━━━━━━━━━━\u001b[0m \u001b[32m3.4/3.4 MB\u001b[0m \u001b[31m33.6 MB/s\u001b[0m eta \u001b[36m0:00:00\u001b[0m\n",
            "\u001b[?25hInstalling collected packages: pyspellchecker\n",
            "Successfully installed pyspellchecker-0.7.2\n",
            "--2023-12-12 06:12:36--  https://raw.githubusercontent.com/swanny0000/Cracking_Letter_Boxed/main/helper_functions.py\n",
            "Resolving raw.githubusercontent.com (raw.githubusercontent.com)... 185.199.108.133, 185.199.110.133, 185.199.111.133, ...\n",
            "Connecting to raw.githubusercontent.com (raw.githubusercontent.com)|185.199.108.133|:443... connected.\n",
            "HTTP request sent, awaiting response... 200 OK\n",
            "Length: 1671 (1.6K) [text/plain]\n",
            "Saving to: ‘helper_functions.py’\n",
            "\n",
            "helper_functions.py 100%[===================>]   1.63K  --.-KB/s    in 0s      \n",
            "\n",
            "2023-12-12 06:12:36 (22.1 MB/s) - ‘helper_functions.py’ saved [1671/1671]\n",
            "\n"
          ]
        }
      ],
      "source": [
        "!pip install pyspellchecker\n",
        "!wget https://raw.githubusercontent.com/swanny0000/Cracking_Letter_Boxed/main/helper_functions.py\n",
        "from helper_functions import find_valid_words"
      ]
    },
    {
      "cell_type": "code",
      "source": [
        "letters_list = [\"gaf\", \"plt\", \"ghi\", \"ouw\"]\n",
        "print(find_valid_words(letters_list, min_length=4, max_length=4))"
      ],
      "metadata": {
        "colab": {
          "base_uri": "https://localhost:8080/"
        },
        "id": "-VNntCIQzFc3",
        "outputId": "0620aab2-84bf-4bbe-8c8f-572314e6ef2d"
      },
      "execution_count": 2,
      "outputs": [
        {
          "output_type": "stream",
          "name": "stdout",
          "text": [
            "{'glop': 1, 'glug': 1, 'glut': 1, 'ggot': 1, 'ghat': 1, 'ghul': 1, 'gigi': 1, 'gift': 1, 'gila': 1, 'gogh': 1, 'gogo': 1, 'goal': 1, 'goat': 1, 'golf': 1, 'gota': 1, 'goth': 1, 'goto': 1, 'gulf': 1, 'algo': 1, 'alai': 1, 'alia': 1, 'alwa': 1, 'atah': 1, 'atop': 1, 'agai': 1, 'agog': 1, 'agua': 1, 'ahah': 1, 'auto': 1, 'flap': 1, 'flat': 1, 'flag': 1, 'flaw': 1, 'flip': 1, 'flit': 1, 'flog': 1, 'flop': 1, 'fiat': 1, 'fifi': 1, 'foal': 1, 'foil': 1, 'fugu': 1, 'papa': 1, 'papi': 1, 'pali': 1, 'palo': 1, 'path': 1, 'pail': 1, 'paul': 1, 'phat': 1, 'pipa': 1, 'pita': 1, 'pith': 1, 'pogo': 1, 'popo': 1, 'poli': 1, 'polo': 1, 'pupa': 1, 'puta': 1, 'puto': 1, 'lala': 1, 'lath': 1, 'lago': 1, 'lait': 1, 'lfit': 1, 'lift': 1, 'lipo': 1, 'lila': 1, 'lili': 1, 'lith': 1, 'logo': 1, 'loft': 1, 'lola': 1, 'lolo': 1, 'luau': 1, 'lulu': 1, 'tata': 1, 'taha': 1, 'tahu': 1, 'tail': 1, 'taut': 1, 'that': 1, 'thai': 1, 'thao': 1, 'thaw': 1, 'thug': 1, 'tigh': 1, 'tipo': 1, 'tito': 1, 'togo': 1, 'tofu': 1, 'topi': 1, 'topo': 1, 'toto': 1, 'toga': 1, 'toho': 1, 'toil': 1, 'tuft': 1, 'tutu': 1, 'twat': 1, 'twig': 1, 'twit': 1, 'gala': 1, 'galu': 1, 'gato': 1, 'gaga': 1, 'gail': 1, 'gait': 1, 'gaol': 1, 'gaul': 1, 'gawa': 1, 'gawp': 1, 'hapa': 1, 'half': 1, 'halo': 1, 'hath': 1, 'haha': 1, 'hail': 1, 'haul': 1, 'haut': 1, 'hola': 1, 'holo': 1, 'hugh': 1, 'hugo': 1, 'hula': 1, 'huit': 1, 'ight': 1, 'igot': 1, 'ifit': 1, 'itai': 1, 'iota': 1, 'oath': 1, 'ofit': 1, 'opal': 1, 'olga': 1, 'utah': 1, 'utau': 1, 'waif': 1, 'wail': 1, 'wait': 1, 'what': 1, 'whoa': 1, 'whop': 1, 'whup': 1, 'whut': 1, 'wiat': 1, 'wifi': 1, 'with': 1}\n"
          ]
        }
      ]
    },
    {
      "cell_type": "code",
      "source": [
        "print(find_valid_words(letters_list=[\"abc\", \"def\", \"ghi\", \"jkl\"],\n",
        "                       min_length=4,\n",
        "                       max_length=4))"
      ],
      "metadata": {
        "colab": {
          "base_uri": "https://localhost:8080/"
        },
        "id": "wsf2rkZF32N4",
        "outputId": "e78cb888-fe1a-465f-dce1-37e796c0027d"
      },
      "execution_count": 4,
      "outputs": [
        {
          "output_type": "stream",
          "name": "stdout",
          "text": [
            "{'agai': 1, 'ahah': 1, 'aida': 1, 'alai': 1, 'alec': 1, 'alfa': 1, 'alia': 1, 'bead': 1, 'beak': 1, 'bebe': 1, 'beck': 1, 'beka': 1, 'bela': 1, 'bhai': 1, 'bibi': 1, 'bidi': 1, 'bike': 1, 'bile': 1, 'blag': 1, 'blah': 1, 'cece': 1, 'ceci': 1, 'cela': 1, 'chad': 1, 'chae': 1, 'chai': 1, 'chak': 1, 'clad': 1, 'clea': 1, 'dada': 1, 'dake': 1, 'dale': 1, 'dial': 1, 'dice': 1, 'dich': 1, 'dick': 1, 'didi': 1, 'dije': 1, 'dike': 1, 'dile': 1, 'elif': 1, 'fail': 1, 'fake': 1, 'fhaf': 1, 'fifi': 1, 'file': 1, 'flag': 1, 'flak': 1, 'flea': 1, 'flik': 1, 'gaga': 1, 'gage': 1, 'gail': 1, 'gala': 1, 'gale': 1, 'gebe': 1, 'geld': 1, 'glad': 1, 'glib': 1, 'hada': 1, 'haha': 1, 'hail': 1, 'haji': 1, 'haka': 1, 'hake': 1, 'hale': 1, 'half': 1, 'head': 1, 'heal': 1, 'heck': 1, 'hehe': 1, 'heil': 1, 'held': 1, 'heli': 1, 'idle': 1, 'ifhe': 1, 'ikea': 1, 'jail': 1, 'jake': 1, 'jibe': 1, 'kage': 1, 'kake': 1, 'kala': 1, 'kale': 1, 'kali': 1, 'khai': 1, 'kiai': 1, 'kick': 1, 'kieh': 1, 'kike': 1, 'kiki': 1, 'laid': 1, 'laka': 1, 'lake': 1, 'lakh': 1, 'lala': 1, 'lead': 1, 'leaf': 1, 'leah': 1, 'leak': 1, 'lech': 1, 'leia': 1, 'leif': 1, 'lfhe': 1, 'lice': 1, 'lick': 1, 'lida': 1, 'lieb': 1, 'lika': 1, 'like': 1, 'lila': 1, 'lile': 1, 'lili': 1}\n"
          ]
        }
      ]
    },
    {
      "cell_type": "code",
      "source": [
        "from spellchecker import SpellChecker\n",
        "\n",
        "spell = SpellChecker()\n",
        "\n",
        "# find those words that may be misspelled\n",
        "misspelled = spell.unknown(['soemthing', 'is', 'hapenning', 'heree'])\n",
        "\n",
        "for word in misspelled:\n",
        "    # Get the one `most likely` answer\n",
        "    print(spell.correction(word))\n",
        "\n",
        "    # Get a list of `likely` options\n",
        "    print(spell.candidates(word))"
      ],
      "metadata": {
        "colab": {
          "base_uri": "https://localhost:8080/"
        },
        "id": "67nt4z1Rg7tO",
        "outputId": "2662a6d9-9644-47fa-a2f8-7ae74e5538cc"
      },
      "execution_count": 7,
      "outputs": [
        {
          "output_type": "stream",
          "name": "stdout",
          "text": [
            "here\n",
            "{'herei', 'here', 'heres', 'herel', 'cheree'}\n",
            "something\n",
            "{'somthing', 'something'}\n",
            "happening\n",
            "{'happening', 'henning', 'penning'}\n"
          ]
        }
      ]
    },
    {
      "cell_type": "markdown",
      "source": [
        "## TODO\n",
        "Need to figure out how to short-circuit logic for longer words. If we can get a list of shorter strings that do not exist in any english words (like \"xyzz\") then we can quit out of all subprocesses that would analyze beyond that string.\n",
        "\n",
        "Check out https://github.com/dwyl/english-words?"
      ],
      "metadata": {
        "id": "A_D2rKlCxAFl"
      }
    },
    {
      "cell_type": "code",
      "source": [],
      "metadata": {
        "id": "Yw6l0-4Mwc3N"
      },
      "execution_count": null,
      "outputs": []
    }
  ]
}
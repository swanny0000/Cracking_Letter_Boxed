{
  "nbformat": 4,
  "nbformat_minor": 0,
  "metadata": {
    "colab": {
      "provenance": [],
      "authorship_tag": "ABX9TyMBcuc7ipHxXvEAdKRbeCNe",
      "include_colab_link": true
    },
    "kernelspec": {
      "name": "python3",
      "display_name": "Python 3"
    },
    "language_info": {
      "name": "python"
    }
  },
  "cells": [
    {
      "cell_type": "markdown",
      "metadata": {
        "id": "view-in-github",
        "colab_type": "text"
      },
      "source": [
        "<a href=\"https://colab.research.google.com/github/swanny0000/Cracking_Letter_Boxed/blob/main/Cracking_Letter_Boxed.ipynb\" target=\"_parent\"><img src=\"https://colab.research.google.com/assets/colab-badge.svg\" alt=\"Open In Colab\"/></a>"
      ]
    },
    {
      "cell_type": "code",
      "execution_count": 28,
      "metadata": {
        "colab": {
          "base_uri": "https://localhost:8080/"
        },
        "id": "Ik0c_nz0eufq",
        "outputId": "d292b6e8-b813-4f12-93d9-98e04a8a9b8e"
      },
      "outputs": [
        {
          "output_type": "stream",
          "name": "stdout",
          "text": [
            "Requirement already satisfied: pyspellchecker in /usr/local/lib/python3.10/dist-packages (0.7.2)\n"
          ]
        }
      ],
      "source": [
        "!pip install pyspellchecker\n",
        "\n",
        "from spellchecker import SpellChecker\n",
        "english = SpellChecker()\n",
        "def check_word(word):\n",
        "    if word == english.correction(word):\n",
        "        return True\n",
        "    else:\n",
        "        return False\n",
        "\n",
        "import re\n",
        "def is_valid_letters_list(letters_list):\n",
        "  if len(letters_list) != 4: return False\n",
        "  for val in letters_list:\n",
        "    if len(val) != 3: return False\n",
        "    if not re.match(\"[a-zA-Z]{3}\", val):\n",
        "      return False\n",
        "  return True\n",
        "\n",
        "def check_next_level(letters_list, words_dict, current_string, current_index, max_length=12):\n",
        "  if len(current_string) >= max_length:\n",
        "    if check_word(current_string) == True:\n",
        "      words_dict[current_string] = 1\n",
        "    return\n",
        "  else:\n",
        "    for index in range(len(letters_list)):\n",
        "      if index != current_index:\n",
        "        for letter in letters_list[index]:\n",
        "          check_next_level(letters_list, words_dict, current_string+letter, index, max_length)\n",
        "          if check_word(current_string) == True & len(current_string) > 2:\n",
        "            words_dict[current_string] = 1\n",
        "    return\n",
        "\n",
        "def find_valid_words(letters_list, max_length=12):\n",
        "  #if not is_valid_letters_list(letters_list):\n",
        "  #  raise Exception(\"letters_list must be a list of four sets of three letters\")\n",
        "  words_dict = {}\n",
        "  for index in range(len(letters_list)):\n",
        "    for letter in letters_list[index]:\n",
        "      check_next_level(letters_list, words_dict, letter, index, max_length)\n",
        "  return words_dict"
      ]
    },
    {
      "cell_type": "code",
      "source": [
        "letters_list = [\"abc\", \"def\", \"ghi\", \"jkl\"]"
      ],
      "metadata": {
        "id": "-VNntCIQzFc3"
      },
      "execution_count": 29,
      "outputs": []
    },
    {
      "cell_type": "code",
      "source": [
        "def check_next_level(letters_list, words_dict, current_string, current_index, max_length=12):\n",
        "  if len(current_string) >= max_length:\n",
        "    if check_word(current_string) == True:\n",
        "      words_dict[current_string] = 1\n",
        "    return\n",
        "  else:\n",
        "    for index in range(len(letters_list)):\n",
        "      if index != current_index:\n",
        "        for letter in letters_list[index]:\n",
        "          check_next_level(letters_list, words_dict, current_string+letter, index, max_length)\n",
        "          if check_word(current_string) == True & len(current_string) > 3:\n",
        "            words_dict[current_string] = 1\n",
        "    return\n",
        "\n",
        "def find_valid_words(letters_list, max_length=12):\n",
        "  #if not is_valid_letters_list(letters_list):\n",
        "  #  raise Exception(\"letters_list must be a list of four sets of three letters\")\n",
        "  words_dict = {}\n",
        "  for index in range(len(letters_list)):\n",
        "    for letter in letters_list[index]:\n",
        "      check_next_level(letters_list, words_dict, letter, index, max_length)\n",
        "  return words_dict\n",
        "\n",
        "print(find_valid_words(letters_list, 5))"
      ],
      "metadata": {
        "id": "wsf2rkZF32N4"
      },
      "execution_count": null,
      "outputs": []
    },
    {
      "cell_type": "code",
      "source": [
        "english.correction(\"agai\")"
      ],
      "metadata": {
        "id": "ay5P20qoM0_s"
      },
      "execution_count": null,
      "outputs": []
    },
    {
      "cell_type": "code",
      "source": [],
      "metadata": {
        "id": "WKftvO82ca8W"
      },
      "execution_count": null,
      "outputs": []
    }
  ]
}